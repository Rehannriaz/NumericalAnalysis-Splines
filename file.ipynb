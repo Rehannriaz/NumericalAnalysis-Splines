{
 "cells": [
  {
   "cell_type": "code",
   "execution_count": 106,
   "metadata": {},
   "outputs": [],
   "source": [
    "import numpy as np\n",
    "import matplotlib.pyplot as plt"
   ]
  },
  {
   "cell_type": "code",
   "execution_count": 107,
   "metadata": {},
   "outputs": [],
   "source": [
    "# import pandas as pd\n",
    "# import matplotlib.pyplot as plt\n",
    "\n",
    "# # Read the CSV file\n",
    "# df = pd.read_csv('housing_price_dataset.csv', sep=',')\n",
    "\n",
    "# # Select the first 100 rows\n",
    "# df.sort_values('YearBuilt', inplace=True)\n",
    "# df = df[:100]\n",
    "# print(df.head())\n",
    "\n",
    "# # Select only numeric columns\n",
    "# # numeric_columns = df.select_dtypes(include='number')\n",
    "\n",
    "# # Group by 'YearBuilt' and calculate the mean for each group\n",
    "# # grouped_df = numeric_columns.groupby('YearBuilt').mean().reset_index()\n",
    "\n",
    "# # Print the grouped DataFrame\n",
    "# # print(grouped_df)\n",
    "\n",
    "# # View only the selected columns\n",
    "# selected_columns = df[['SquareFeet', 'YearBuilt', 'Price']]\n",
    "# print(selected_columns)\n",
    "\n",
    "# # Convert the DataFrame to a numpy array\n",
    "# xArr = selected_columns[['SquareFeet']]\n",
    "# yArr = selected_columns[['Price']]\n",
    "\n",
    "\n",
    "\n",
    "# # Plot the data\n",
    "# plt.scatter(xArr, yArr)\n",
    "# plt.xlabel('SquareFeet')\n",
    "# plt.ylabel('Price')\n",
    "# plt.title('Scatter Plot of SquareFeet vs. Price')\n",
    "# plt.show()\n"
   ]
  },
  {
   "cell_type": "code",
   "execution_count": 108,
   "metadata": {},
   "outputs": [
    {
     "name": "stdout",
     "output_type": "stream",
     "text": [
      "               Price\n",
      "978    312734.662929\n",
      "49613  322066.887052\n",
      "47017  209254.046525\n",
      "30593  210545.821380\n",
      "30597  236703.740681\n",
      "...              ...\n",
      "24227  320779.309346\n",
      "30999  128436.220190\n",
      "31021  201912.669040\n",
      "31024  171603.207357\n",
      "7392   312060.624668\n",
      "\n",
      "[100 rows x 1 columns]\n"
     ]
    }
   ],
   "source": [
    "print(yArr)"
   ]
  },
  {
   "cell_type": "code",
   "execution_count": 109,
   "metadata": {},
   "outputs": [],
   "source": [
    "noOfPoints = 100"
   ]
  },
  {
   "cell_type": "code",
   "execution_count": 110,
   "metadata": {},
   "outputs": [],
   "source": [
    "xVals = np.linspace(0,10,noOfPoints)\n",
    "\n",
    "yVals = 2*np.sin(xVals)/np.cos(xVals/2)\n",
    "# yVals = np.cos(xVals) + np.random.normal(0, 0.1, noOfPoints)\n",
    "\n",
    "xArr = np.array(xVals)\n",
    "yArr = np.array(yVals)"
   ]
  },
  {
   "cell_type": "code",
   "execution_count": 111,
   "metadata": {},
   "outputs": [
    {
     "data": {
      "image/png": "[encoded data removed]",
      "text/plain": [
       "<Figure size 640x480 with 1 Axes>"
      ]
     },
     "metadata": {},
     "output_type": "display_data"
    }
   ],
   "source": [
    "plt.clf()\n",
    "plt.scatter(xArr,yArr)\n",
    "\n",
    "plt.xlabel(\"X Values\")\n",
    "plt.ylabel(\"Y Values\")\n",
    "plt.title(\"Random Plotted points\")\n",
    "\n",
    "plt.grid(1)\n"
   ]
  },
  {
   "cell_type": "code",
   "execution_count": 112,
   "metadata": {},
   "outputs": [
    {
     "data": {
      "text/plain": [
       "99"
      ]
     },
     "execution_count": 112,
     "metadata": {},
     "output_type": "execute_result"
    }
   ],
   "source": [
    "noOfSplines = xArr.size - 1\n",
    "noOfSplines"
   ]
  },
  {
   "cell_type": "markdown",
   "metadata": {},
   "source": [
    "##### Computing H values, step size"
   ]
  },
  {
   "cell_type": "code",
   "execution_count": 113,
   "metadata": {},
   "outputs": [
    {
     "name": "stdout",
     "output_type": "stream",
     "text": [
      "[0.        0.1010101 0.1010101 0.1010101 0.1010101 0.1010101 0.1010101\n",
      " 0.1010101 0.1010101 0.1010101 0.1010101 0.1010101 0.1010101 0.1010101\n",
      " 0.1010101 0.1010101 0.1010101 0.1010101 0.1010101 0.1010101 0.1010101\n",
      " 0.1010101 0.1010101 0.1010101 0.1010101 0.1010101 0.1010101 0.1010101\n",
      " 0.1010101 0.1010101 0.1010101 0.1010101 0.1010101 0.1010101 0.1010101\n",
      " 0.1010101 0.1010101 0.1010101 0.1010101 0.1010101 0.1010101 0.1010101\n",
      " 0.1010101 0.1010101 0.1010101 0.1010101 0.1010101 0.1010101 0.1010101\n",
      " 0.1010101 0.1010101 0.1010101 0.1010101 0.1010101 0.1010101 0.1010101\n",
      " 0.1010101 0.1010101 0.1010101 0.1010101 0.1010101 0.1010101 0.1010101\n",
      " 0.1010101 0.1010101 0.1010101 0.1010101 0.1010101 0.1010101 0.1010101\n",
      " 0.1010101 0.1010101 0.1010101 0.1010101 0.1010101 0.1010101 0.1010101\n",
      " 0.1010101 0.1010101 0.1010101 0.1010101 0.1010101 0.1010101 0.1010101\n",
      " 0.1010101 0.1010101 0.1010101 0.1010101 0.1010101 0.1010101 0.1010101\n",
      " 0.1010101 0.1010101 0.1010101 0.1010101 0.1010101 0.1010101 0.1010101\n",
      " 0.1010101]\n"
     ]
    }
   ],
   "source": [
    "\n",
    "\n",
    "hArr = np.zeros(noOfSplines)\n",
    "\n",
    "for j in range(1,noOfSplines):\n",
    "    hArr[j] = xArr[j+1] - xArr[j]\n",
    "    # plt.plot(xArr[j:j+2],yArr[j:j+2])\n",
    "print(hArr)"
   ]
  },
  {
   "cell_type": "markdown",
   "metadata": {},
   "source": [
    "#### Computing Alpha Values"
   ]
  },
  {
   "cell_type": "code",
   "execution_count": 114,
   "metadata": {},
   "outputs": [],
   "source": [
    "alphaArr = np.array(yArr)"
   ]
  },
  {
   "cell_type": "markdown",
   "metadata": {},
   "source": [
    "#### Computing B Values\n"
   ]
  },
  {
   "cell_type": "code",
   "execution_count": 115,
   "metadata": {},
   "outputs": [
    {
     "name": "stdout",
     "output_type": "stream",
     "text": [
      "[ 0.          0.         -0.0305506  -0.04572849 -0.06078976 -0.075696\n",
      " -0.09040921 -0.10489184 -0.11910699 -0.13301838 -0.14659055 -0.15978887\n",
      " -0.17257971 -0.18493042 -0.19680953 -0.20818672 -0.219033   -0.22932069\n",
      " -0.23902357 -0.24811688 -0.25657744 -0.26438368 -0.27151567 -0.27795525\n",
      " -0.28368597 -0.28869324 -0.29296427 -0.29648818 -0.29925598 -0.30126062\n",
      " -0.30249697 -0.30296189 -0.3026542  -0.30157466 -0.29972605 -0.29711307\n",
      " -0.29374239 -0.2896226  -0.2847642  -0.2791796  -0.27288303 -0.26589055\n",
      " -0.25821999 -0.24989091 -0.24092456 -0.23134379 -0.22117305 -0.21043827\n",
      " -0.19916682 -0.18738746 -0.17513022 -0.16242636 -0.14930827 -0.13580942\n",
      " -0.12196422 -0.10780799 -0.09337682 -0.07870752 -0.0638375  -0.04880469\n",
      " -0.0336474  -0.01840431 -0.00311429  0.01218368  0.02745057  0.04264746\n",
      "  0.05773559  0.07267649  0.08743204  0.10196462  0.11623717  0.13021328\n",
      "  0.14385733  0.15713451  0.17001096  0.18245385  0.19443143  0.20591318\n",
      "  0.2168698   0.22727336  0.23709732  0.24631663  0.25490779  0.26284886\n",
      "  0.27011962  0.27670152  0.28257776  0.28773337  0.2921552   0.29583197\n",
      "  0.2987543   0.30091474  0.30230779  0.30292988  0.30277944  0.30185684\n",
      "  0.30016444  0.29770656  0.29448946  0.        ]\n"
     ]
    }
   ],
   "source": [
    "bArr = np.zeros(noOfSplines+1)\n",
    "\n",
    "for i in range (2,noOfSplines):\n",
    "    bArr[i] = (3/hArr[i])*(alphaArr[i+1]-alphaArr[i])-(3/hArr[i-1])*(alphaArr[i]-alphaArr[i-1])\n",
    "\n",
    "print(bArr)"
   ]
  },
  {
   "cell_type": "markdown",
   "metadata": {},
   "source": [
    "#### Computing A Values"
   ]
  },
  {
   "cell_type": "code",
   "execution_count": 116,
   "metadata": {},
   "outputs": [
    {
     "name": "stdout",
     "output_type": "stream",
     "text": [
      "(100, 100)\n"
     ]
    }
   ],
   "source": [
    "aArr = np.zeros((noOfSplines+1,noOfSplines+1))\n",
    "\n",
    "# print(aArr)\n",
    "\n",
    "\n",
    "for j in range (1,noOfSplines+1):\n",
    "    for i in range (2,noOfSplines):\n",
    "        if i==j:\n",
    "            aArr[i][j] = 2*(hArr[i-1]+hArr[i])\n",
    "        elif i==j+1:\n",
    "            aArr[i][j] = hArr[i-1]\n",
    "        elif i==j-1:\n",
    "            aArr[i][j] = hArr[i]\n",
    "\n",
    "aArr[0][0] = 1\n",
    "aArr[noOfSplines][noOfSplines] = 1\n",
    "print(aArr.shape)\n"
   ]
  },
  {
   "cell_type": "markdown",
   "metadata": {},
   "source": [
    "#### Computing Gamma "
   ]
  },
  {
   "cell_type": "code",
   "execution_count": 117,
   "metadata": {},
   "outputs": [
    {
     "name": "stdout",
     "output_type": "stream",
     "text": [
      "[ 0.          0.         -0.01696272 -0.02770246 -0.03682662 -0.04585687\n",
      " -0.05477017 -0.06354379 -0.07215537 -0.08058293 -0.08880499 -0.09680058\n",
      " -0.10454931 -0.11203141 -0.1192278  -0.12612014 -0.13269085 -0.13892317\n",
      " -0.1448012  -0.15030995 -0.15543539 -0.16016443 -0.16448501 -0.16838612\n",
      " -0.17185781 -0.17489123 -0.17747864 -0.17961343 -0.18129018 -0.18250459\n",
      " -0.18325358 -0.18353523 -0.18334882 -0.18269484 -0.18157494 -0.17999199\n",
      " -0.17795002 -0.17545424 -0.17251101 -0.16912784 -0.16531336 -0.1610773\n",
      " -0.15643045 -0.15138467 -0.14595282 -0.14014877 -0.1339873  -0.12748414\n",
      " -0.12065586 -0.11351989 -0.10609441 -0.09839838 -0.0904514  -0.08227375\n",
      " -0.07388629 -0.0653104  -0.05656796 -0.04768125 -0.03867295 -0.02956603\n",
      " -0.0203837  -0.01114939 -0.00188665  0.00738091  0.01662964  0.02583596\n",
      "  0.0349764   0.04402763  0.05296659  0.06177047  0.07041682  0.0788836\n",
      "  0.0871492   0.09519256  0.10299315  0.11053109  0.11778715  0.12474282\n",
      "  0.13138038  0.13768289  0.14363427  0.14921936  0.1544239   0.15923463\n",
      "  0.16363928  0.16762661  0.17118646  0.17430974  0.1769885   0.1792159\n",
      "  0.18098625  0.18229506  0.18313897  0.18351583  0.18342469  0.18286578\n",
      "  0.18184052  0.18035153  0.14905701  0.        ]\n"
     ]
    }
   ],
   "source": [
    "# gammaArr = np.zeros((noOfSplines+1,noOfSplines+1))\n",
    "\n",
    "gammaArr = np.matmul(aArr,bArr)\n",
    "\n",
    "\n",
    "print(gammaArr)"
   ]
  },
  {
   "cell_type": "markdown",
   "metadata": {},
   "source": [
    "##### Computing Beta and Delta"
   ]
  },
  {
   "cell_type": "code",
   "execution_count": 118,
   "metadata": {},
   "outputs": [],
   "source": [
    "betaArr = np.zeros(noOfSplines)\n",
    "deltaArr = np.zeros(noOfSplines)\n",
    "\n",
    "for i in range (1,noOfSplines):\n",
    "    betaArr[i]=(1/hArr[i])*(alphaArr[i+1]-alphaArr[i])-(hArr[i]/3)*(2*gammaArr[i]+gammaArr[i+1])\n",
    "    deltaArr[i]=(gammaArr[i+1]-gammaArr[i])/(3*hArr[i])\n",
    "\n"
   ]
  },
  {
   "cell_type": "code",
   "execution_count": 119,
   "metadata": {},
   "outputs": [
    {
     "data": {
      "image/png": "[encoded data removed]",
      "text/plain": [
       "<Figure size 640x480 with 1 Axes>"
      ]
     },
     "metadata": {},
     "output_type": "display_data"
    }
   ],
   "source": [
    "\n",
    "for i in range(1,noOfPoints-1):\n",
    "    x = np.linspace(xArr[i-1],xArr[i],100)\n",
    "    y = alphaArr[i] + betaArr[i]*(x-xArr[i]) + gammaArr[i]*(x-xArr[i])**2 + deltaArr[i]*(x-xArr[i])**3\n",
    "    plt.plot(x,y)\n",
    "\n",
    "# plt.scatter(xArr,yArr)"
   ]
  },
  {
   "cell_type": "code",
   "execution_count": 120,
   "metadata": {},
   "outputs": [
    {
     "data": {
      "image/png": "[encoded data removed]",
      "text/plain": [
       "<Figure size 640x480 with 1 Axes>"
      ]
     },
     "metadata": {},
     "output_type": "display_data"
    }
   ],
   "source": [
    "xx_values = []\n",
    "yy_values = []\n",
    "\n",
    "for i in range(noOfSplines):\n",
    "    x = np.arange(xArr[i], xArr[i+1] + 0.0001, 0.0001)\n",
    "    spline_i = alphaArr[i] + betaArr[i]*(x-xArr[i]) + gammaArr[i]*(x-xArr[i])**2 + deltaArr[i]*(x-xArr[i])**3\n",
    "    xx_values.extend(x)\n",
    "    yy_values.extend(spline_i)\n",
    "plt.scatter(xArr, yArr, label='Data Points')\n",
    "\n",
    "plt.plot(xx_values, yy_values)\n",
    "\n",
    "plt.xlabel('X-axis')\n",
    "plt.ylabel('Y-axis')\n",
    "plt.title('Cubic Spline Interpolation')\n",
    "plt.show()"
   ]
  }
 ],
 "metadata": {
  "kernelspec": {
   "display_name": "Python 3",
   "language": "python",
   "name": "python3"
  },
  "language_info": {
   "codemirror_mode": {
    "name": "ipython",
    "version": 3
   },
   "file_extension": ".py",
   "mimetype": "text/x-python",
   "name": "python",
   "nbconvert_exporter": "python",
   "pygments_lexer": "ipython3",
   "version": "3.10.12"
  }
 },
 "nbformat": 4,
 "nbformat_minor": 2
}
